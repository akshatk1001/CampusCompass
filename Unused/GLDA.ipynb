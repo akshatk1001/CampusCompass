{
 "cells": [
  {
   "cell_type": "code",
   "execution_count": 1,
   "metadata": {},
   "outputs": [
    {
     "ename": "ModuleNotFoundError",
     "evalue": "No module named 'guidedlda'",
     "output_type": "error",
     "traceback": [
      "\u001b[0;31m---------------------------------------------------------------------------\u001b[0m",
      "\u001b[0;31mModuleNotFoundError\u001b[0m                       Traceback (most recent call last)",
      "Cell \u001b[0;32mIn[1], line 4\u001b[0m\n\u001b[1;32m      2\u001b[0m \u001b[38;5;28;01mimport\u001b[39;00m \u001b[38;5;21;01mpandas\u001b[39;00m \u001b[38;5;28;01mas\u001b[39;00m \u001b[38;5;21;01mpd\u001b[39;00m\n\u001b[1;32m      3\u001b[0m \u001b[38;5;28;01mfrom\u001b[39;00m \u001b[38;5;21;01msklearn\u001b[39;00m\u001b[38;5;21;01m.\u001b[39;00m\u001b[38;5;21;01mfeature_extraction\u001b[39;00m\u001b[38;5;21;01m.\u001b[39;00m\u001b[38;5;21;01mtext\u001b[39;00m \u001b[38;5;28;01mimport\u001b[39;00m TfidfVectorizer\n\u001b[0;32m----> 4\u001b[0m \u001b[38;5;28;01mimport\u001b[39;00m \u001b[38;5;21;01mguidedlda\u001b[39;00m\n\u001b[1;32m      6\u001b[0m \u001b[38;5;66;03m#reading in the cleaned df\u001b[39;00m\n\u001b[1;32m      7\u001b[0m df \u001b[38;5;241m=\u001b[39m pd\u001b[38;5;241m.\u001b[39mread_csv(\u001b[38;5;124m\"\u001b[39m\u001b[38;5;124mNewScrapedData.csv\u001b[39m\u001b[38;5;124m\"\u001b[39m)\n",
      "\u001b[0;31mModuleNotFoundError\u001b[0m: No module named 'guidedlda'"
     ]
    }
   ],
   "source": [
    "import numpy as np\n",
    "import pandas as pd\n",
    "from sklearn.feature_extraction.text import TfidfVectorizer\n",
    "import guidedlda\n",
    "\n",
    "#reading in the cleaned df\n",
    "df = pd.read_csv(\"NewScrapedData.csv\")\n",
    "\n",
    "#create the TfidfVectorizer. min_df says any word that does not appear in x rows get rid of. \n",
    "# max_df says any word that appears in more than x proportion of documents, get rid of\n",
    "tfidf = TfidfVectorizer(min_df = 5, max_df = .75)\n",
    "\n",
    "#tokenize and perform TF-IDF vectorizer\n",
    "doc_term_matrix = tfidf.fit_transform(df[\"New Description\"])\n",
    "\n",
    "doc_term_matrix"
   ]
  },
  {
   "cell_type": "code",
   "execution_count": null,
   "metadata": {},
   "outputs": [],
   "source": [
    "greek = [\"alpha\", \"beta\", \"gamma\", \"delta\", \"epsilon\", \"zeta\", \"eta\", \"theta\", \n",
    "    \"iota\", \"kappa\", \"lambda\", \"mu\", \"nu\", \"xi\", \"omicron\", \"pi\", \"rho\", \n",
    "    \"sigma\", \"tau\", \"upsilon\", \"phi\", \"chi\", \"psi\", \"omega\"]\n",
    "\n",
    "fraternity = [\n",
    "    \"fraternity\", \"brotherhood\"\n",
    "]\n",
    "\n",
    "sorority = [\n",
    "    \"sorority\", \"sisterhood\"\n",
    "]"
   ]
  },
  {
   "cell_type": "code",
   "execution_count": null,
   "metadata": {},
   "outputs": [],
   "source": [
    "custom_tag_words = np.zeros((X.shape[1],))\n",
    "\n",
    "for word in fraternity+sorority:\n",
    "    if word in tfidf.vocabulary_:\n",
    "        custom_tag_words[tfidf.vocabulary_[word]] = .8\n",
    "\n",
    "for word in greek:\n",
    "    if word in tfidf.vocabulary_:\n",
    "        custom_tag_words[tfidf.vocabulary_[word]] = .5\n"
   ]
  },
  {
   "cell_type": "code",
   "execution_count": null,
   "metadata": {},
   "outputs": [],
   "source": [
    "GLDA = guidedlda.GuidedLDA(n_topics=15, n_iter=100, random_state = 12345, referesh=10)\n",
    "GLDA.fit(doc_term_matrix, seed_topics = custom_tag_words)"
   ]
  },
  {
   "cell_type": "code",
   "execution_count": null,
   "metadata": {},
   "outputs": [],
   "source": [
    "topics = GLDA.topic_word_\n",
    "\n",
    "# Print the topics and see the results\n",
    "print(\"Topics:\")\n",
    "for i, topic in enumerate(topics):\n",
    "    print(f\"Topic {i}:\")\n",
    "    for j in topic.argsort()[-10:]:  # Print top 10 words for each topic\n",
    "        print(f\"  {tfidf.get_feature_names_out()[j]}\")"
   ]
  }
 ],
 "metadata": {
  "kernelspec": {
   "display_name": "myenv",
   "language": "python",
   "name": "python3"
  },
  "language_info": {
   "codemirror_mode": {
    "name": "ipython",
    "version": 3
   },
   "file_extension": ".py",
   "mimetype": "text/x-python",
   "name": "python",
   "nbconvert_exporter": "python",
   "pygments_lexer": "ipython3",
   "version": "3.11.7"
  }
 },
 "nbformat": 4,
 "nbformat_minor": 2
}
