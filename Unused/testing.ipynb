{
 "cells": [
  {
   "cell_type": "code",
   "execution_count": 1,
   "metadata": {},
   "outputs": [],
   "source": [
    "import pandas as pd"
   ]
  },
  {
   "cell_type": "code",
   "execution_count": 2,
   "metadata": {},
   "outputs": [
    {
     "name": "stdout",
     "output_type": "stream",
     "text": [
      "CSV file 'ClubsScored.csv' loaded successfully!\n"
     ]
    }
   ],
   "source": [
    "# Define the path to your CSV file\n",
    "csv_file_path = 'ClubsScored.csv'  # Replace with your file path, e.g., 'data.csv'\n",
    "\n",
    "# Read the CSV file into a DataFrame\n",
    "try:\n",
    "    df = pd.read_csv(csv_file_path)\n",
    "    print(f\"CSV file '{csv_file_path}' loaded successfully!\")\n",
    "except FileNotFoundError:\n",
    "    print(f\"Error: File '{csv_file_path}' not found.\")\n",
    "except pd.errors.EmptyDataError:\n",
    "    print(f\"Error: File '{csv_file_path}' is empty.\")\n",
    "except pd.errors.ParserError:\n",
    "    print(f\"Error: File '{csv_file_path}' is not a valid CSV.\")\n"
   ]
  },
  {
   "cell_type": "code",
   "execution_count": 3,
   "metadata": {},
   "outputs": [
    {
     "name": "stdout",
     "output_type": "stream",
     "text": [
      "Columns to Exclude:\n",
      "['Club Name']\n",
      "\n",
      "Columns to Check:\n",
      "['Community Service', 'Professional Networking', 'Creative Arts', 'Technology Integration', 'Environmental Sustainability', 'Leadership Development', 'Academic Support', 'Cultural Diversity', 'Social Events', 'Innovation and Entrepreneurship', 'Health and Wellness', 'Religious and Spiritual', 'Competitive Teams', 'Engineering Focus', 'Agricultural Practices', 'Sports and Recreation', 'Political Activism', 'Historical Preservation', 'Science and Research', 'Music and Performance', 'Advocacy and Human Rights', 'Corporate Partnerships', 'International Focus', 'Equity and Inclusion', 'STEM Education', 'Literary and Writing', 'Artistic Expression', 'Financial Education', 'Media and Communications', 'Career Readiness', 'Legal Education', 'Safety and Security', 'Volunteer Opportunities', 'Women’s Interests', 'Mental Health', 'Animal Welfare', 'Technology and Coding', 'Outdoor Activities', 'Family and Parenting', 'Culinary Arts']\n"
     ]
    }
   ],
   "source": [
    "# Get a list of all column names\n",
    "all_columns = df.columns.tolist()\n",
    "\n",
    "# Exclude the last column (assumed to be 'Name')\n",
    "columns_to_exclude = [all_columns[-1]]  # Last column\n",
    "columns_to_check = all_columns[:-1]  # All except last\n",
    "\n",
    "print(\"Columns to Exclude:\")\n",
    "print(columns_to_exclude)\n",
    "\n",
    "print(\"\\nColumns to Check:\")\n",
    "print(columns_to_check)\n"
   ]
  },
  {
   "cell_type": "code",
   "execution_count": 4,
   "metadata": {},
   "outputs": [
    {
     "name": "stdout",
     "output_type": "stream",
     "text": [
      "\n",
      "Numeric Columns to Check:\n",
      "['Community Service', 'Professional Networking', 'Creative Arts', 'Technology Integration', 'Environmental Sustainability', 'Leadership Development', 'Academic Support', 'Cultural Diversity', 'Social Events', 'Innovation and Entrepreneurship', 'Health and Wellness', 'Religious and Spiritual', 'Competitive Teams', 'Engineering Focus', 'Agricultural Practices', 'Sports and Recreation', 'Political Activism', 'Historical Preservation', 'Science and Research', 'Music and Performance', 'Advocacy and Human Rights', 'Corporate Partnerships', 'International Focus', 'Equity and Inclusion', 'STEM Education', 'Literary and Writing', 'Artistic Expression', 'Financial Education', 'Media and Communications', 'Career Readiness', 'Legal Education', 'Safety and Security', 'Volunteer Opportunities', 'Women’s Interests', 'Mental Health', 'Animal Welfare', 'Technology and Coding', 'Outdoor Activities', 'Family and Parenting', 'Culinary Arts']\n"
     ]
    }
   ],
   "source": [
    "# Select only numeric columns from columns_to_check\n",
    "numeric_columns = df[columns_to_check].select_dtypes(include=['number']).columns.tolist()\n",
    "\n",
    "print(\"\\nNumeric Columns to Check:\")\n",
    "print(numeric_columns)\n"
   ]
  },
  {
   "cell_type": "code",
   "execution_count": 21,
   "metadata": {},
   "outputs": [
    {
     "name": "stdout",
     "output_type": "stream",
     "text": [
      "Threshold set to: 0.6\n"
     ]
    }
   ],
   "source": [
    "# Define the threshold\n",
    "threshold = 0.6\n",
    "print(f\"Threshold set to: {threshold}\")\n"
   ]
  },
  {
   "cell_type": "code",
   "execution_count": 22,
   "metadata": {},
   "outputs": [
    {
     "data": {
      "text/html": [
       "<div>\n",
       "<style scoped>\n",
       "    .dataframe tbody tr th:only-of-type {\n",
       "        vertical-align: middle;\n",
       "    }\n",
       "\n",
       "    .dataframe tbody tr th {\n",
       "        vertical-align: top;\n",
       "    }\n",
       "\n",
       "    .dataframe thead th {\n",
       "        text-align: right;\n",
       "    }\n",
       "</style>\n",
       "<table border=\"1\" class=\"dataframe\">\n",
       "  <thead>\n",
       "    <tr style=\"text-align: right;\">\n",
       "      <th></th>\n",
       "      <th>Community Service</th>\n",
       "      <th>Professional Networking</th>\n",
       "      <th>Creative Arts</th>\n",
       "      <th>Technology Integration</th>\n",
       "      <th>Environmental Sustainability</th>\n",
       "      <th>Leadership Development</th>\n",
       "      <th>Academic Support</th>\n",
       "      <th>Cultural Diversity</th>\n",
       "      <th>Social Events</th>\n",
       "      <th>Innovation and Entrepreneurship</th>\n",
       "      <th>...</th>\n",
       "      <th>Legal Education</th>\n",
       "      <th>Safety and Security</th>\n",
       "      <th>Volunteer Opportunities</th>\n",
       "      <th>Women’s Interests</th>\n",
       "      <th>Mental Health</th>\n",
       "      <th>Animal Welfare</th>\n",
       "      <th>Technology and Coding</th>\n",
       "      <th>Outdoor Activities</th>\n",
       "      <th>Family and Parenting</th>\n",
       "      <th>Culinary Arts</th>\n",
       "    </tr>\n",
       "  </thead>\n",
       "  <tbody>\n",
       "    <tr>\n",
       "      <th>0</th>\n",
       "      <td>False</td>\n",
       "      <td>False</td>\n",
       "      <td>False</td>\n",
       "      <td>False</td>\n",
       "      <td>False</td>\n",
       "      <td>False</td>\n",
       "      <td>True</td>\n",
       "      <td>False</td>\n",
       "      <td>False</td>\n",
       "      <td>False</td>\n",
       "      <td>...</td>\n",
       "      <td>False</td>\n",
       "      <td>False</td>\n",
       "      <td>True</td>\n",
       "      <td>False</td>\n",
       "      <td>False</td>\n",
       "      <td>False</td>\n",
       "      <td>False</td>\n",
       "      <td>False</td>\n",
       "      <td>False</td>\n",
       "      <td>False</td>\n",
       "    </tr>\n",
       "    <tr>\n",
       "      <th>1</th>\n",
       "      <td>False</td>\n",
       "      <td>False</td>\n",
       "      <td>False</td>\n",
       "      <td>False</td>\n",
       "      <td>False</td>\n",
       "      <td>False</td>\n",
       "      <td>False</td>\n",
       "      <td>False</td>\n",
       "      <td>False</td>\n",
       "      <td>False</td>\n",
       "      <td>...</td>\n",
       "      <td>False</td>\n",
       "      <td>False</td>\n",
       "      <td>False</td>\n",
       "      <td>False</td>\n",
       "      <td>False</td>\n",
       "      <td>False</td>\n",
       "      <td>False</td>\n",
       "      <td>False</td>\n",
       "      <td>False</td>\n",
       "      <td>False</td>\n",
       "    </tr>\n",
       "    <tr>\n",
       "      <th>2</th>\n",
       "      <td>False</td>\n",
       "      <td>False</td>\n",
       "      <td>False</td>\n",
       "      <td>False</td>\n",
       "      <td>False</td>\n",
       "      <td>False</td>\n",
       "      <td>False</td>\n",
       "      <td>False</td>\n",
       "      <td>False</td>\n",
       "      <td>True</td>\n",
       "      <td>...</td>\n",
       "      <td>False</td>\n",
       "      <td>False</td>\n",
       "      <td>True</td>\n",
       "      <td>False</td>\n",
       "      <td>False</td>\n",
       "      <td>True</td>\n",
       "      <td>False</td>\n",
       "      <td>False</td>\n",
       "      <td>False</td>\n",
       "      <td>False</td>\n",
       "    </tr>\n",
       "    <tr>\n",
       "      <th>3</th>\n",
       "      <td>False</td>\n",
       "      <td>False</td>\n",
       "      <td>False</td>\n",
       "      <td>False</td>\n",
       "      <td>False</td>\n",
       "      <td>False</td>\n",
       "      <td>True</td>\n",
       "      <td>False</td>\n",
       "      <td>True</td>\n",
       "      <td>True</td>\n",
       "      <td>...</td>\n",
       "      <td>False</td>\n",
       "      <td>False</td>\n",
       "      <td>True</td>\n",
       "      <td>False</td>\n",
       "      <td>False</td>\n",
       "      <td>True</td>\n",
       "      <td>False</td>\n",
       "      <td>False</td>\n",
       "      <td>False</td>\n",
       "      <td>True</td>\n",
       "    </tr>\n",
       "    <tr>\n",
       "      <th>4</th>\n",
       "      <td>False</td>\n",
       "      <td>False</td>\n",
       "      <td>False</td>\n",
       "      <td>False</td>\n",
       "      <td>False</td>\n",
       "      <td>False</td>\n",
       "      <td>False</td>\n",
       "      <td>False</td>\n",
       "      <td>False</td>\n",
       "      <td>False</td>\n",
       "      <td>...</td>\n",
       "      <td>False</td>\n",
       "      <td>False</td>\n",
       "      <td>False</td>\n",
       "      <td>False</td>\n",
       "      <td>False</td>\n",
       "      <td>False</td>\n",
       "      <td>False</td>\n",
       "      <td>False</td>\n",
       "      <td>False</td>\n",
       "      <td>False</td>\n",
       "    </tr>\n",
       "  </tbody>\n",
       "</table>\n",
       "<p>5 rows × 40 columns</p>\n",
       "</div>"
      ],
      "text/plain": [
       "   Community Service  Professional Networking  Creative Arts  \\\n",
       "0              False                    False          False   \n",
       "1              False                    False          False   \n",
       "2              False                    False          False   \n",
       "3              False                    False          False   \n",
       "4              False                    False          False   \n",
       "\n",
       "   Technology Integration  Environmental Sustainability  \\\n",
       "0                   False                         False   \n",
       "1                   False                         False   \n",
       "2                   False                         False   \n",
       "3                   False                         False   \n",
       "4                   False                         False   \n",
       "\n",
       "   Leadership Development  Academic Support  Cultural Diversity  \\\n",
       "0                   False              True               False   \n",
       "1                   False             False               False   \n",
       "2                   False             False               False   \n",
       "3                   False              True               False   \n",
       "4                   False             False               False   \n",
       "\n",
       "   Social Events  Innovation and Entrepreneurship  ...  Legal Education  \\\n",
       "0          False                            False  ...            False   \n",
       "1          False                            False  ...            False   \n",
       "2          False                             True  ...            False   \n",
       "3           True                             True  ...            False   \n",
       "4          False                            False  ...            False   \n",
       "\n",
       "   Safety and Security  Volunteer Opportunities  Women’s Interests  \\\n",
       "0                False                     True              False   \n",
       "1                False                    False              False   \n",
       "2                False                     True              False   \n",
       "3                False                     True              False   \n",
       "4                False                    False              False   \n",
       "\n",
       "   Mental Health  Animal Welfare  Technology and Coding  Outdoor Activities  \\\n",
       "0          False           False                  False               False   \n",
       "1          False           False                  False               False   \n",
       "2          False            True                  False               False   \n",
       "3          False            True                  False               False   \n",
       "4          False           False                  False               False   \n",
       "\n",
       "   Family and Parenting  Culinary Arts  \n",
       "0                 False          False  \n",
       "1                 False          False  \n",
       "2                 False          False  \n",
       "3                 False           True  \n",
       "4                 False          False  \n",
       "\n",
       "[5 rows x 40 columns]"
      ]
     },
     "execution_count": 22,
     "metadata": {},
     "output_type": "execute_result"
    }
   ],
   "source": [
    "# Create a boolean DataFrame where True indicates value >= threshold\n",
    "condition = df[numeric_columns] >= threshold\n",
    "\n",
    "# Display the condition DataFrame\n",
    "condition.head()\n"
   ]
  },
  {
   "cell_type": "code",
   "execution_count": 23,
   "metadata": {},
   "outputs": [
    {
     "data": {
      "text/plain": [
       "0       True\n",
       "1       True\n",
       "2       True\n",
       "3       True\n",
       "4       True\n",
       "       ...  \n",
       "439     True\n",
       "440    False\n",
       "441    False\n",
       "442     True\n",
       "443    False\n",
       "Length: 444, dtype: bool"
      ]
     },
     "execution_count": 23,
     "metadata": {},
     "output_type": "execute_result"
    }
   ],
   "source": [
    "# For each row, check if any value meets the condition\n",
    "rows_with_condition = condition.any(axis=1)\n",
    "\n",
    "# Display the boolean Series\n",
    "rows_with_condition\n"
   ]
  },
  {
   "cell_type": "code",
   "execution_count": 24,
   "metadata": {},
   "outputs": [
    {
     "data": {
      "text/plain": [
       "0      False\n",
       "1      False\n",
       "2      False\n",
       "3      False\n",
       "4      False\n",
       "       ...  \n",
       "439    False\n",
       "440     True\n",
       "441     True\n",
       "442    False\n",
       "443     True\n",
       "Length: 444, dtype: bool"
      ]
     },
     "execution_count": 24,
     "metadata": {},
     "output_type": "execute_result"
    }
   ],
   "source": [
    "# Rows that do NOT have any value meeting the condition\n",
    "rows_without_condition = ~rows_with_condition\n",
    "\n",
    "# Display the boolean Series\n",
    "rows_without_condition\n"
   ]
  },
  {
   "cell_type": "code",
   "execution_count": 25,
   "metadata": {},
   "outputs": [
    {
     "name": "stdout",
     "output_type": "stream",
     "text": [
      "Number of rows without any value >= 0.6: 75\n"
     ]
    }
   ],
   "source": [
    "# Count the number of rows without any value >= threshold\n",
    "count = rows_without_condition.sum()\n",
    "\n",
    "print(f\"Number of rows without any value >= {threshold}: {count}\")\n"
   ]
  },
  {
   "cell_type": "code",
   "execution_count": 26,
   "metadata": {},
   "outputs": [
    {
     "name": "stdout",
     "output_type": "stream",
     "text": [
      "\n",
      "Rows without any value >= threshold:\n",
      " Community Service  Professional Networking  Creative Arts  Technology Integration  Environmental Sustainability  Leadership Development  Academic Support  Cultural Diversity  Social Events  Innovation and Entrepreneurship  Health and Wellness  Religious and Spiritual  Competitive Teams  Engineering Focus  Agricultural Practices  Sports and Recreation  Political Activism  Historical Preservation  Science and Research  Music and Performance  Advocacy and Human Rights  Corporate Partnerships  International Focus  Equity and Inclusion  STEM Education  Literary and Writing  Artistic Expression  Financial Education  Media and Communications  Career Readiness  Legal Education  Safety and Security  Volunteer Opportunities  Women’s Interests  Mental Health  Animal Welfare  Technology and Coding  Outdoor Activities  Family and Parenting  Culinary Arts                                                                  Club Name\n",
      "          0.243826                 0.209663       0.173339                0.362202                      0.140800                0.304768          0.540424            0.385918       0.334083                         0.418731             0.159997                 0.354026           0.293492           0.297713                0.061559               0.255262            0.259639                 0.233281              0.415583               0.169084                   0.342665                0.265410             0.581865              0.357804        0.466456              0.152120             0.035306             0.319349                  0.195563          0.259796         0.231273             0.193915                 0.164220           0.301455       0.169699        0.275539               0.065721            0.294074              0.201476       0.433325                                                      alpha Kappa Delta Phi\n",
      "          0.147221                 0.291766       0.128691                0.452893                      0.255185                0.315742          0.526578            0.199754       0.214538                         0.520253             0.191867                 0.223391           0.336600           0.440063                0.111105               0.231545            0.230099                 0.146467              0.502876               0.217589                   0.315740                0.187703             0.403754              0.359502        0.577663              0.153375             0.161413             0.331174                  0.157924          0.411123         0.270245             0.301910                 0.171578           0.165630       0.192873        0.281341               0.124727            0.275267              0.104610       0.271509                                                        Alpha Omega Epsilon\n",
      "          0.300063                 0.459396       0.176570                0.427264                      0.282430                0.344575          0.464939            0.084794       0.441464                         0.280810             0.072077                 0.139254           0.232657           0.351584                0.161853               0.234178            0.270347                 0.283640              0.470797               0.196105                   0.388534                0.529367             0.276839              0.311493        0.463415              0.216464             0.220208             0.387965                  0.222977          0.441949         0.346174             0.228574                 0.362020           0.247671       0.198623        0.277356               0.393218            0.391175              0.134034       0.267907                                            Associated Students in Planning\n",
      "          0.331846                 0.441977       0.135286                0.447668                      0.277317                0.345155          0.485939            0.158100       0.443314                         0.451282             0.116084                 0.211425           0.338317           0.430393                0.270130               0.165720            0.248839                 0.114674              0.429007               0.152074                   0.488772                0.398433             0.231910              0.306813        0.531174              0.089181             0.151329             0.409618                  0.232262          0.400808         0.442415             0.329518                 0.383828           0.260635       0.272852        0.468370               0.403579            0.244122              0.288679       0.199462                                                    AWS Cloud Club Cal Poly\n",
      "          0.282176                 0.425787       0.201418                0.420533                      0.093786                0.277797          0.289411            0.110281       0.345531                         0.260546             0.122405                 0.208916           0.593862           0.270851                0.221228               0.565062            0.068877                 0.189639              0.432415               0.218115                   0.243168                0.150655             0.369822              0.245606        0.326357              0.226409             0.160780             0.180757                  0.242685          0.458184         0.274655             0.197832                 0.342995           0.134043       0.162657        0.284842               0.283455            0.384516              0.130207       0.367499                                                             Badminton Club\n",
      "          0.391838                 0.282310       0.084686                0.332341                      0.170670                0.290841          0.591767            0.205276       0.475382                         0.479111             0.173593                 0.259861           0.285580           0.224432                0.123778               0.263486            0.305933                 0.187536              0.393035               0.146276                   0.291721                0.263961             0.267811              0.382734        0.403362              0.239965             0.206204             0.335487                  0.136805          0.328484         0.245036             0.259006                 0.327849           0.196875       0.218204        0.318176               0.049197            0.246310              0.306747       0.387078            Beta Lambda Chapter of Alpha Epsilon Phi Sorority, Incorporated\n",
      "          0.239128                 0.379475       0.352874                0.297490                      0.187175                0.319836          0.224705            0.196168       0.427290                         0.525402             0.179685                 0.116289           0.333717           0.350076                0.432979               0.473448            0.251771                 0.127605              0.342671               0.299453                   0.421303                0.294586             0.550631              0.233009        0.293332              0.326090             0.484351             0.193215                  0.330436          0.499733         0.187742             0.257612                 0.282385           0.408152       0.154589        0.327525               0.337724            0.495090              0.272143       0.518133                                                      Cal Poly Archery Club\n",
      "          0.306126                 0.289355       0.221153                0.397821                      0.288069                0.160908          0.306270            0.246796       0.568795                         0.311410             0.191602                 0.333770           0.087338           0.279864                0.214355               0.336268            0.347477                 0.398413              0.576940               0.288872                   0.231452                0.359023             0.345043              0.306755        0.328256              0.281150             0.295199             0.242237                  0.324264          0.412033         0.173720             0.119814                 0.506550           0.370599       0.149282        0.268693               0.299272            0.469945              0.211107       0.340441                                              Cal Poly Astronomical Society\n",
      "          0.000000                 0.154437       0.199967                0.106954                      0.030081                0.128348          0.000000            0.142582       0.368635                         0.196146             0.018984                 0.209849           0.089749           0.000000                0.178417               0.164700            0.118677                 0.048478              0.000000               0.343504                   0.021631                0.248840             0.029555              0.017615        0.080872              0.132075             0.333653             0.143073                  0.149593          0.146509         0.095698             0.000000                 0.000000           0.160839       0.015976        0.000000               0.336859            0.437420              0.126240       0.461253                                               Cal Poly Ballroom Dance Club\n",
      "          0.408905                 0.325377       0.314438                0.296447                      0.203156                0.297558          0.470291            0.347703       0.482141                         0.344188             0.382668                 0.472684           0.380952           0.381802                0.176533               0.512948            0.343350                 0.181954              0.417343               0.269883                   0.532305                0.286330             0.463391              0.310803        0.457984              0.141038             0.342805             0.234945                  0.276790          0.459367         0.148318             0.235441                 0.567638           0.338323       0.483954        0.442049               0.220360            0.452395              0.238034       0.242732                                                      Cal Poly Barbell Club\n",
      "          0.305789                 0.283271       0.378137                0.353349                      0.391565                0.350275          0.395051            0.338733       0.443226                         0.460241             0.492174                 0.374009           0.294733           0.191796                0.297190               0.491964            0.439428                 0.329719              0.468104               0.248661                   0.402027                0.290580             0.318986              0.356004        0.271410              0.248778             0.530385             0.222102                  0.326271          0.392631         0.173576             0.232767                 0.262022           0.409193       0.450152        0.496674               0.327528            0.428980              0.336922       0.368849                                                            Cal Poly CHAARG\n",
      "          0.408856                 0.424925       0.322733                0.161722                      0.197096                0.399634          0.429715            0.382108       0.541359                         0.583272             0.192740                 0.131314           0.579065           0.271969                0.264311               0.529483            0.272736                 0.388956              0.457880               0.394624                   0.357665                0.339102             0.549887              0.375965        0.470139              0.204901             0.434696             0.386912                  0.300927          0.410604         0.254744             0.268274                 0.437338           0.315884       0.217484        0.451016               0.293400            0.460217              0.255014       0.573884                                                        Cal Poly Chess Club\n",
      "          0.281307                 0.228037       0.144794                0.302094                      0.246007                0.138076          0.287879            0.115268       0.309994                         0.309860             0.153283                 0.088741           0.296655           0.304907                0.254712               0.505773            0.165109                 0.193090              0.319660               0.251649                   0.158650                0.309170             0.186389              0.208495        0.403703              0.191349             0.167495             0.289989                  0.161530          0.269774         0.289883             0.138356                 0.286653           0.247125       0.198035        0.224755               0.344431            0.582856              0.118302       0.320938                                                    Cal Poly Disc Golf Club\n",
      "          0.272257                 0.297658       0.328640                0.317943                      0.110214                0.155610          0.303183            0.249259       0.597433                         0.249313             0.031504                 0.116420           0.226305           0.278279                0.078086               0.424500            0.208310                 0.190864              0.361585               0.307513                   0.197810                0.319941             0.307641              0.336192        0.284963              0.283155             0.357863             0.276836                  0.469668          0.293358         0.208249             0.133934                 0.418575           0.448469       0.115910        0.243925               0.370052            0.426814              0.193648       0.372375                                                         Cal Poly Film Club\n",
      "          0.223031                 0.316273       0.379000                0.377196                      0.237378                0.208843          0.181886            0.197350       0.354634                         0.356967             0.158266                 0.094716           0.139983           0.355162                0.158865               0.283208            0.168526                 0.280116              0.404943               0.260416                   0.121010                0.370372             0.180964              0.362489        0.346108              0.199201             0.480198             0.253650                  0.184436          0.359784         0.168758             0.225533                 0.263366           0.323214       0.222312        0.288769               0.409915            0.357120              0.144587       0.533325                                             Cal Poly Furniture Design Club\n",
      "          0.215121                 0.354767       0.211528                0.367033                      0.212525                0.246651          0.591854            0.261995       0.513055                         0.329392             0.211897                 0.238884           0.271668           0.322578                0.266940               0.404908            0.164173                 0.232641              0.473676               0.191696                   0.367113                0.428027             0.405620              0.423975        0.536665              0.235781             0.093404             0.454789                  0.337647          0.441222         0.378685             0.155199                 0.422293           0.454521       0.168708        0.403614               0.273896            0.449545              0.222535       0.468188                                                         Cal Poly ISLA Club\n",
      "          0.314723                 0.382332       0.295394                0.318367                      0.147978                0.303385          0.482628            0.077146       0.513676                         0.263470             0.125296                 0.098797           0.446265           0.315615                0.279275               0.468043            0.371070                 0.304233              0.497119               0.270585                   0.496594                0.329126             0.347399              0.271263        0.465202              0.357370             0.451477             0.388547                  0.340384          0.466533         0.449365             0.513988                 0.334889           0.342116       0.298456        0.315085               0.380820            0.472435              0.206694       0.457006                                                 Cal Poly Marksmanship Club\n",
      "          0.251769                 0.443829       0.171149                0.368964                      0.092011                0.262867          0.355179            0.186947       0.418437                         0.267349             0.087291                 0.184023           0.511846           0.238622                0.157589               0.533089            0.166414                 0.137687              0.354520               0.184080                   0.348629                0.342566             0.265098              0.247486        0.390706              0.217666             0.269213             0.228857                  0.327094          0.265557         0.293734             0.154088                 0.300931           0.227925       0.118980        0.293504               0.256398            0.450381              0.120035       0.274531                                               Cal Poly Men's Lacrosse Club\n",
      "          0.285273                 0.245867       0.223215                0.209801                      0.287006                0.248528          0.282406            0.151269       0.434993                         0.210365             0.132437                 0.136734           0.435224           0.260585                0.326461               0.557534            0.250634                 0.479554              0.442946               0.245725                   0.403177                0.320393             0.316358              0.103064        0.344049              0.167154             0.360914             0.237500                  0.262286          0.186508         0.273023             0.190588                 0.416359           0.185992       0.255254        0.450123               0.400325            0.557254              0.220607       0.318716                                               Cal Poly Men's Ultimate Club\n",
      "          0.280210                 0.332374       0.413010                0.333866                      0.527673                0.418381          0.338853            0.378730       0.166706                         0.423444             0.259533                 0.323242           0.187043           0.386787                0.247555               0.148262            0.339040                 0.355742              0.417488               0.203536                   0.401044                0.265935             0.343194              0.361283        0.381874              0.180629             0.438694             0.320401                  0.171229          0.456516         0.245557             0.245412                 0.303803           0.329542       0.367909        0.390618               0.389114            0.261714              0.112390       0.441908              Cal Poly National Organization of Minority Architect Students\n",
      "          0.289655                 0.184962       0.000000                0.129124                      0.129278                0.211704          0.304382            0.054465       0.357900                         0.064675             0.069346                 0.020080           0.283151           0.211914                0.150289               0.292962            0.210171                 0.109042              0.158501               0.113260                   0.273616                0.270991             0.116203              0.395320        0.183712              0.136307             0.031642             0.197643                  0.050239          0.256739         0.114137             0.038828                 0.330505           0.177430       0.123542        0.414832               0.221871            0.356215              0.104203       0.099591                                                       Cal Poly Rowing Club\n",
      "          0.441817                 0.335900       0.113889                0.291220                      0.205109                0.240491          0.292566            0.222009       0.494393                         0.401779             0.213314                 0.156103           0.542793           0.179255                0.137355               0.585432            0.178555                 0.046444              0.346922               0.227894                   0.273237                0.356413             0.359557              0.271392        0.161068              0.034188             0.086440             0.199957                  0.198544          0.382637         0.102453             0.190191                 0.486138           0.318635       0.362230        0.339331               0.211546            0.436234              0.216024       0.206946                                                         Cal Poly Swim Club\n",
      "          0.112069                 0.297494       0.095648                0.262105                      0.094454                0.213523          0.252886            0.094631       0.361783                         0.204746             0.039701                 0.086341           0.365773           0.250095                0.183919               0.497149            0.074406                 0.160410              0.392976               0.298478                   0.144665                0.133450             0.286513              0.223203        0.402377              0.216704             0.224254             0.224499                  0.214239          0.339259         0.267328             0.146132                 0.234952           0.238516       0.146935        0.198398               0.265817            0.483936              0.162835       0.308969                                                 Cal Poly Table Tennis Club\n",
      "          0.429632                 0.355732       0.201621                0.227002                      0.453920                0.148181          0.188715            0.288934       0.531209                         0.490650             0.201723                 0.223620           0.183455           0.315504                0.271753               0.437734            0.377012                 0.531786              0.264111               0.190411                   0.419157                0.336405             0.211570              0.384908        0.165440              0.281966             0.379856             0.191717                  0.192579          0.241478         0.209514             0.224314                 0.592223           0.338625       0.338767        0.563975               0.360591            0.523662              0.368766       0.173572                                                     Cal Poly Van Life Club\n",
      "          0.249708                 0.316765       0.118244                0.127275                      0.000000                0.175446          0.344223            0.186265       0.415182                         0.245572             0.020722                 0.076063           0.596484           0.238836                0.139652               0.536648            0.210570                 0.145741              0.330414               0.237290                   0.224262                0.094090             0.211729              0.362049        0.390856              0.188914             0.252165             0.235195                  0.220009          0.168804         0.320164             0.024171                 0.470602           0.537014       0.073971        0.267885               0.202104            0.410305              0.122753       0.360529                                           Cal Poly Women's Club Volleyball\n",
      "          0.258031                 0.247658       0.055634                0.166467                      0.193345                0.210481          0.220217            0.226392       0.478046                         0.319116             0.117006                 0.071437           0.487751           0.204001                0.144910               0.528655            0.260993                 0.121066              0.258263               0.113225                   0.278432                0.221538             0.286987              0.286397        0.276207              0.195740             0.267385             0.186479                  0.229644          0.235491         0.125683             0.145559                 0.346681           0.541332       0.240042        0.304151               0.143673            0.519534              0.096495       0.050368                                           Cal Poly Women's Club Water Polo\n",
      "          0.100994                 0.298309       0.156776                0.257557                      0.062483                0.164333          0.146220            0.147998       0.240287                         0.092050             0.060337                 0.105225           0.389322           0.151041                0.154978               0.404092            0.108138                 0.192422              0.137255               0.133964                   0.233618                0.071821             0.269177              0.179662        0.317482              0.165060             0.104227             0.136911                  0.175099          0.174728         0.241572             0.093246                 0.238553           0.466616       0.054232        0.168882               0.203173            0.413041              0.016477       0.285800                                             Cal Poly Women's Lacrosse Team\n",
      "          0.327452                 0.173371       0.148149                0.241799                      0.260198                0.122959          0.228364            0.227816       0.415177                         0.314856             0.358039                 0.288028           0.003747           0.105056                0.253417               0.345579            0.408590                 0.075658              0.193400               0.164487                   0.418076                0.281339             0.164255              0.314304        0.312145              0.000000             0.303019             0.205763                  0.135919          0.134937         0.173782             0.258411                 0.416823           0.264023       0.281509        0.339960               0.198520            0.546670              0.158394       0.164439                                                         Cal Poly Yoga Club\n",
      "          0.319233                 0.330228       0.466954                0.403539                      0.232926                0.255709          0.274088            0.344177       0.420559                         0.417281             0.284651                 0.318946           0.514706           0.288777                0.321403               0.527608            0.220518                 0.297937              0.373050               0.418910                   0.229162                0.334743             0.470958              0.187705        0.421061              0.218713             0.531797             0.238959                  0.282382          0.370974         0.339836             0.314629                 0.311875           0.286222       0.386772        0.397021               0.425995            0.565297              0.230015       0.562527                                                    Cal Poly Yu-Gi-Oh! Club\n",
      "          0.345371                 0.414465       0.354022                0.276003                      0.199841                0.143115          0.305108            0.309501       0.425936                         0.386183             0.219329                 0.144918           0.217112           0.178180                0.217417               0.312975            0.238482                 0.181448              0.243531               0.382662                   0.158309                0.249163             0.310190              0.266011        0.243173              0.265610             0.320294             0.106970                  0.293356          0.169910         0.165807             0.134460                 0.384074           0.293971       0.128595        0.329347               0.265367            0.436179              0.174910       0.527035                                                   Can of Worms Comedy Club\n",
      "          0.450524                 0.287113       0.213151                0.263320                      0.402241                0.310088          0.537243            0.398993       0.457482                         0.289667             0.339994                 0.426222           0.177257           0.235826                0.261098               0.323350            0.383736                 0.344516              0.372414               0.108766                   0.339342                0.418386             0.301222              0.393977        0.492659              0.190793             0.195451             0.476960                  0.127494          0.327533         0.384098             0.232852                 0.489146           0.205447       0.263259        0.369728               0.290865            0.520234              0.363431       0.422913                                                       Chabad Student Group\n",
      "          0.175964                 0.207785       0.204051                0.367554                      0.138116                0.258257          0.449034            0.196353       0.279434                         0.078139             0.137334                 0.340506           0.140054           0.363694                0.026234               0.136166            0.217114                 0.264386              0.497881               0.191148                   0.331808                0.089259             0.370866              0.210274        0.573402              0.445039             0.378063             0.306934                  0.290453          0.372170         0.338589             0.168417                 0.215928           0.283923       0.403941        0.224402               0.346222            0.192888              0.180244       0.351366                                        Chi Sigma chapter of Phi Sigma Iota\n",
      "          0.265115                 0.316008       0.163492                0.213622                      0.135804                0.146722          0.223747            0.159410       0.437814                         0.214522             0.092862                 0.174908           0.081216           0.120945                0.327053               0.207121            0.316073                 0.233761              0.151221               0.442883                   0.184708                0.149953             0.198000              0.146857        0.172337              0.089680             0.365285             0.145574                  0.104213          0.188788         0.142339             0.216399                 0.176454           0.187149       0.141437        0.265508               0.304007            0.397290              0.256186       0.240495                                                  Country Line Dancing Club\n",
      "          0.492959                 0.362360       0.230227                0.319851                      0.404899                0.255257          0.464570            0.279588       0.421607                         0.163435             0.218275                 0.594057           0.201360           0.272000                0.280428               0.234156            0.329065                 0.587797              0.325417               0.194391                   0.341641                0.482134             0.439638              0.171960        0.411115              0.201658             0.251896             0.422484                  0.327085          0.253230         0.376572             0.194591                 0.467570           0.151352       0.256403        0.396779               0.245054            0.291245              0.243864       0.423622                                                                        Cru\n",
      "          0.328167                 0.233604       0.175277                0.337393                      0.148989                0.329824          0.425443            0.276619       0.316825                         0.322430             0.156896                 0.323631           0.295004           0.266798                0.128972               0.265419            0.208267                 0.244654              0.371341               0.256819                   0.205929                0.268626             0.250713              0.300244        0.405718              0.248239             0.301586             0.233454                  0.166840          0.331159         0.225670             0.182806                 0.337290           0.143423       0.413331        0.368374               0.157795            0.192515              0.160745       0.430076                                                                  Delta Chi\n",
      "          0.311145                 0.343842       0.173589                0.316300                      0.347116                0.576435          0.340470            0.472251       0.317370                         0.474998             0.339488                 0.521301           0.287560           0.359290                0.163528               0.260740            0.281498                 0.405004              0.419643               0.269288                   0.542658                0.333454             0.377693              0.423639        0.427894              0.319517             0.326490             0.230282                  0.239338          0.525903         0.113520             0.243291                 0.461389           0.471099       0.351832        0.249253               0.138457            0.238829              0.191307       0.338388                                      Delta Sigma Phi - Epsilon Rho Chapter\n",
      "          0.390244                 0.150637       0.190154                0.230035                      0.384793                0.242481          0.324457            0.040682       0.207031                         0.452936             0.257704                 0.171875           0.094018           0.123561                0.230933               0.141119            0.252898                 0.156339              0.273797               0.189570                   0.348994                0.389304             0.267201              0.065371        0.374256              0.172951             0.140144             0.313681                  0.137510          0.330213         0.397726             0.110550                 0.439739           0.020598       0.453815        0.416948               0.185726            0.258482              0.138990       0.160907                                                   End Overdose at Cal Poly\n",
      "          0.310584                 0.216236       0.135748                0.367782                      0.166819                0.373415          0.547199            0.257390       0.424841                         0.381472             0.289602                 0.501586           0.259708           0.197179                0.108775               0.149873            0.312030                 0.471618              0.434696               0.177927                   0.408268                0.257921             0.269895              0.234835        0.465219              0.331814             0.265770             0.214983                  0.117249          0.312334         0.225913             0.217273                 0.234096           0.288038       0.234398        0.343172               0.000000            0.188878              0.270866       0.287022                                       Eta Septaton Chapter Phi Sigma Kappa\n",
      "          0.281511                 0.291537       0.134986                0.235714                      0.104552                0.233137          0.316747            0.332531       0.562715                         0.314555             0.066532                 0.175355           0.272409           0.179896                0.261013               0.312863            0.235159                 0.195299              0.166188               0.174160                   0.146409                0.210847             0.468510              0.095012        0.242363              0.272918             0.178538             0.122988                  0.417876          0.215393         0.118911             0.065611                 0.377353           0.184005       0.172720        0.347603               0.302678            0.323893              0.207905       0.325428                                                       French Language Club\n",
      "          0.232399                 0.364143       0.228447                0.476933                      0.291404                0.337954          0.449257            0.103760       0.270952                         0.343773             0.023202                 0.164595           0.213487           0.434588                0.278226               0.140123            0.190206                 0.230185              0.312548               0.121314                   0.295683                0.431020             0.242881              0.329406        0.534115              0.136780             0.142845             0.417188                  0.159141          0.466402         0.372536             0.180968                 0.450203           0.323481       0.306592        0.465122               0.425519            0.365693              0.207671       0.299369                                             Google Developer Student Clubs\n",
      "          0.309398                 0.103467       0.334714                0.188933                      0.351950                0.243198          0.259547            0.370755       0.529141                         0.363834             0.324504                 0.391024           0.067465           0.392487                0.253020               0.338436            0.384720                 0.393768              0.446587               0.209706                   0.329521                0.224636             0.441782              0.243378        0.516293              0.305176             0.375241             0.213065                  0.285921          0.176696         0.303754             0.201706                 0.447859           0.148318       0.323783        0.361223               0.307015            0.490750              0.259623       0.436525                                                  Hillel of San Luis Obispo\n",
      "          0.392989                 0.187898       0.303099                0.370626                      0.304732                0.315949          0.514315            0.484451       0.529713                         0.432286             0.284377                 0.437533           0.213639           0.296012                0.317153               0.295208            0.339891                 0.406739              0.329740               0.271710                   0.247898                0.416615             0.478711              0.422702        0.528998              0.147805             0.354719             0.422265                  0.275305          0.325360         0.317000             0.169514                 0.450375           0.330776       0.390660        0.385327               0.272660            0.361683              0.342212       0.488112                                               Japanese Student Association\n",
      "          0.322682                 0.361822       0.102786                0.382332                      0.149806                0.286374          0.566741            0.221949       0.353580                         0.224725             0.225567                 0.225156           0.251473           0.196039                0.088459               0.265695            0.073718                 0.407184              0.447852               0.140949                   0.014144                0.212409             0.399603              0.298066        0.370522              0.299900             0.182285             0.302469                  0.136127          0.457738         0.177413             0.090296                 0.286174           0.233781       0.270370        0.243724               0.042495            0.275893              0.202068       0.390060                                                          Kappa Kappa Gamma\n",
      "          0.365035                 0.468058       0.213952                0.394779                      0.233125                0.473040          0.508542            0.225685       0.268194                         0.341277             0.193940                 0.386187           0.384282           0.258532                0.108541               0.194558            0.168720                 0.187371              0.426671               0.387912                   0.353050                0.334954             0.522550              0.286186        0.504895              0.238761             0.321564             0.246003                  0.293185          0.455399         0.224345             0.203367                 0.356698           0.195240       0.398501        0.321114               0.191814            0.287826              0.251124       0.402083                                                  Kappa Kappa Psi - Iota Pi\n",
      "          0.160013                 0.340684       0.101327                0.294507                      0.155783                0.334516          0.414691            0.099452       0.201548                         0.393956             0.169472                 0.261628           0.311909           0.199040                0.078576               0.270639            0.090732                 0.181626              0.373664               0.089192                   0.240759                0.210380             0.230149              0.111980        0.450942              0.053261             0.030918             0.316104                  0.148666          0.299156         0.174736             0.131945                 0.132846           0.107384       0.241958        0.252781               0.099118            0.264606              0.047318       0.477358 Kappa Pi Associate Chapter of Pi Kappa Phi Fraternity, located at Cal Poly\n",
      "          0.419299                 0.202345       0.105382                0.340315                      0.299366                0.423854          0.551605            0.485106       0.376921                         0.315270             0.280777                 0.428743           0.326486           0.283359                0.085391               0.202163            0.373500                 0.273939              0.285902               0.088347                   0.399027                0.249369             0.476545              0.350528        0.525830              0.175695             0.145158             0.267238                  0.110175          0.336130         0.235009             0.125139                 0.320730           0.359504       0.306950        0.338570               0.129362            0.240618              0.236629       0.242871                                                         Lambda Sigma Gamma\n",
      "          0.219564                 0.357429       0.121714                0.343509                      0.128685                0.402299          0.473197            0.084431       0.200009                         0.432930             0.233681                 0.269888           0.233144           0.250901                0.097534               0.207471            0.171445                 0.302229              0.369824               0.001557                   0.346848                0.373752             0.284430              0.089604        0.520441              0.107113             0.131459             0.330036                  0.157240          0.384893         0.299765             0.031722                 0.315184           0.102128       0.124368        0.290806               0.154067            0.179396              0.203843       0.509160                                    Lambda Theta Phi Latin Fraternity, Inc.\n",
      "          0.364789                 0.365483       0.358284                0.371661                      0.360174                0.319743          0.353273            0.516832       0.418776                         0.239825             0.240240                 0.307093           0.299795           0.310767                0.245544               0.310191            0.266928                 0.435420              0.335161               0.304466                   0.354955                0.404591             0.599418              0.422246        0.218740              0.255749             0.403836             0.250702                  0.481186          0.339730         0.274658             0.190252                 0.355028           0.360079       0.213587        0.376465               0.343208            0.284726              0.225801       0.409477                                                Latinx Cultural Association\n",
      "          0.149511                 0.293766       0.083827                0.271844                      0.251472                0.217084          0.244387            0.217610       0.354224                         0.322980             0.058254                 0.045468           0.579519           0.186092                0.147692               0.575679            0.055696                 0.229655              0.227373               0.068255                   0.178145                0.126934             0.395698              0.371076        0.246926              0.205439             0.105864             0.213855                  0.194005          0.316485         0.143856             0.002101                 0.315659           0.343478       0.160774        0.240970               0.093749            0.539037              0.044034       0.077525                                                      Men's Water Polo Club\n",
      "          0.491176                 0.324062       0.212231                0.228500                      0.331594                0.287557          0.399287            0.210219       0.539813                         0.224807             0.309216                 0.552697           0.194380           0.107132                0.308871               0.289598            0.377195                 0.316446              0.303390               0.307257                   0.535852                0.477186             0.192551              0.146678        0.336597              0.190573             0.273783             0.331859                  0.335304          0.208968         0.262473             0.078530                 0.558778           0.142365       0.416799        0.400669               0.082590            0.379691              0.179470       0.340193                                                     Mercy College Movement\n",
      "          0.219842                 0.040923       0.391662                0.192809                      0.142025                0.278059          0.049398            0.304532       0.264676                         0.406858             0.089005                 0.280466           0.180118           0.188744                0.120442               0.146847            0.261795                 0.096915              0.172939               0.202438                   0.290395                0.081953             0.136038              0.133890        0.206682              0.143031             0.523380             0.025907                  0.189133          0.060115         0.048073             0.061998                 0.248271           0.165848       0.140461        0.307343               0.265687            0.260083              0.003513       0.276818                                                             Minna No Anime\n",
      "          0.410793                 0.216754       0.050508                0.252240                      0.224662                0.202407          0.336403            0.158032       0.551076                         0.303722             0.113216                 0.063122           0.281519           0.251723                0.154916               0.458321            0.249636                 0.189798              0.248843               0.193206                   0.251077                0.229901             0.100590              0.349232        0.067909              0.165689             0.268294             0.172095                  0.218938          0.255324         0.072513             0.142874                 0.413443           0.351997       0.135989        0.455514               0.192131            0.518823              0.249188       0.116562                                                          Mustang Surf Club\n",
      "          0.398215                 0.092502       0.036130                0.244142                      0.321953                0.191326          0.532991            0.100440       0.408921                         0.219834             0.322168                 0.137219           0.073498           0.300835                0.194457               0.224706            0.225622                 0.443740              0.290709               0.197558                   0.319986                0.117245             0.089559              0.313795        0.314125              0.143097             0.135094             0.297526                  0.006095          0.360448         0.195575             0.305315                 0.385992           0.135186       0.453061        0.575956               0.219264            0.252581              0.225971       0.064422                                                      Mustangs for Recovery\n",
      "          0.173405                 0.143974       0.187551                0.343771                      0.279185                0.251436          0.343642            0.329461       0.459952                         0.206367             0.209090                 0.107433           0.074500           0.340796                0.230637               0.297656            0.328463                 0.327064              0.356232               0.172885                   0.329198                0.272644             0.184105              0.232639        0.450464              0.222642             0.319399             0.167144                  0.196244          0.395653         0.214844             0.136318                 0.232279           0.334763       0.251362        0.405220               0.270745            0.383341              0.155822       0.258091                                          New Student & Transition Programs\n",
      "          0.359018                 0.368958       0.183132                0.266855                      0.277138                0.175058          0.464184            0.151930       0.190358                         0.163739             0.255383                 0.534795           0.146631           0.143297                0.275408               0.171334            0.261256                 0.387152              0.357607               0.170510                   0.380158                0.369119             0.456326              0.220594        0.482868              0.063639             0.101823             0.432983                  0.094900          0.288038         0.341635             0.159403                 0.422346           0.194249       0.336850        0.475626               0.156796            0.347963              0.262209       0.423687                                              Orthodox Christian Fellowship\n",
      "          0.357374                 0.427038       0.284846                0.470413                      0.207943                0.444721          0.463626            0.357330       0.453704                         0.502757             0.315352                 0.544725           0.237846           0.346337                0.068985               0.397465            0.188061                 0.394529              0.528651               0.277051                   0.426527                0.373929             0.322587              0.260570        0.501561              0.293671             0.404637             0.273037                  0.305765          0.506540         0.267702             0.227766                 0.459874           0.191361       0.354838        0.367631               0.286390            0.282274              0.490490       0.517984                         Phi Delta Theta Fraternity - California Nu Chapter\n",
      "          0.257928                 0.108471       0.197606                0.335421                      0.143425                0.282091          0.333210            0.230252       0.347607                         0.228549             0.139638                 0.370264           0.131443           0.236556                0.054183               0.176937            0.202307                 0.320945              0.380015               0.141141                   0.347248                0.151193             0.293628              0.109666        0.307083              0.201253             0.395497             0.206676                  0.098636          0.260164         0.233873             0.187496                 0.209872           0.000000       0.200858        0.301721               0.295709            0.303140              0.197502       0.275481                                                            Phi Gamma Delta\n",
      "          0.292223                 0.348181       0.225163                0.512106                      0.282082                0.225842          0.402457            0.351557       0.337536                         0.432789             0.201088                 0.316263           0.149339           0.188658                0.255085               0.206933            0.234771                 0.169923              0.366784               0.144753                   0.324494                0.395709             0.564722              0.361231        0.356511              0.195116             0.239856             0.334780                  0.257849          0.453283         0.295621             0.183051                 0.370224           0.150165       0.222119        0.353947               0.270506            0.367422              0.365411       0.540908                                                 Pilipino Cultural Exchange\n",
      "          0.233994                 0.257867       0.043825                0.179580                      0.204244                0.160176          0.255055            0.091180       0.421179                         0.236672             0.087144                 0.180641           0.551921           0.265298                0.083394               0.494849            0.155955                 0.133642              0.340559               0.116655                   0.192528                0.319416             0.236564              0.160650        0.276563              0.184337             0.175086             0.196038                  0.218778          0.150169         0.145427             0.111225                 0.313674           0.213905       0.211044        0.221079               0.232329            0.506234              0.141388       0.042987                                                               Sailing Team\n",
      "          0.347492                 0.305106       0.180338                0.414680                      0.172136                0.324529          0.532380            0.322204       0.374272                         0.593636             0.180248                 0.271211           0.311786           0.230120                0.115519               0.258347            0.378115                 0.203834              0.508426               0.220609                   0.353824                0.298807             0.445005              0.360222        0.448557              0.193808             0.272733             0.318986                  0.200552          0.391837         0.234916             0.382782                 0.273343           0.245535       0.375084        0.291721               0.139556            0.229416              0.156028       0.450130                                    Sigma Omega Chapter of Alpha Epsilon Pi\n",
      "          0.240174                 0.221028       0.102840                0.357053                      0.164571                0.309750          0.446105            0.153724       0.201696                         0.214126             0.277828                 0.301996           0.173957           0.243956                0.123559               0.136884            0.206844                 0.179668              0.319164               0.140945                   0.284196                0.082193             0.369040              0.251802        0.518153              0.131824             0.141106             0.236215                  0.099786          0.291531         0.125301             0.143965                 0.206298           0.314349       0.342930        0.388475               0.053329            0.226519              0.103455       0.260860                                                             Sigma Omega Nu\n",
      "          0.185470                 0.237236       0.145195                0.321381                      0.071344                0.256856          0.465264            0.096335       0.323082                         0.024470             0.125040                 0.264901           0.189642           0.288827                0.015146               0.174448            0.197614                 0.347816              0.577766               0.161200                   0.350326                0.000000             0.204937              0.248786        0.417794              0.291122             0.297198             0.260646                  0.039806          0.332413         0.174154             0.126316                 0.297749           0.264221       0.292300        0.193797               0.237351            0.325297              0.066505       0.288744                                                             Sigma Pi Sigma\n",
      "          0.193038                 0.396812       0.459647                0.192656                      0.080784                0.256686          0.326746            0.150148       0.468360                         0.374555             0.049001                 0.098985           0.425868           0.156843                0.097721               0.457338            0.107492                 0.273754              0.479270               0.581428                   0.285499                0.351632             0.292013              0.094920        0.313373              0.346188             0.415563             0.138269                  0.392855          0.313460         0.256306             0.056178                 0.378827           0.100751       0.071167        0.100665               0.311744            0.401702              0.062983       0.516117                                                              Smile and Nod\n",
      "          0.162429                 0.276846       0.161064                0.356462                      0.445713                0.191052          0.268536            0.106455       0.276953                         0.356635             0.122884                 0.160622           0.306254           0.346855                0.301919               0.270819            0.029014                 0.379122              0.296504               0.264895                   0.165622                0.325455             0.295062              0.332709        0.312124              0.063404             0.174869             0.189386                  0.342197          0.269192         0.089873             0.148573                 0.260649           0.073927       0.142617        0.313210               0.311316            0.523754              0.112308       0.296351              Society for the Advancement of Material & Process Engineering\n",
      "          0.431261                 0.538674       0.258333                0.458026                      0.328091                0.392459          0.526918            0.189251       0.553575                         0.489771             0.172642                 0.309728           0.530783           0.398683                0.221512               0.460320            0.275206                 0.244507              0.498513               0.196953                   0.354501                0.446322             0.329751              0.355146        0.445789              0.301233             0.303253             0.346778                  0.314996          0.447010         0.263595             0.191649                 0.512688           0.169720       0.265046        0.347427               0.339204            0.512055              0.370632       0.410572                                                 Society of Civil Engineers\n",
      "          0.378070                 0.299380       0.293201                0.193719                      0.178083                0.302625          0.348917            0.269850       0.395906                         0.214812             0.197802                 0.158102           0.352411           0.212209                0.249566               0.333714            0.320993                 0.082802              0.335296               0.550468                   0.438591                0.224947             0.326877              0.249967        0.164238              0.153235             0.369360             0.180032                  0.348700          0.290286         0.168296             0.019040                 0.441507           0.325402       0.278924        0.334710               0.161125            0.376195              0.150739       0.466982                                                                Take it SLO\n",
      "          0.328604                 0.371303       0.197608                0.347563                      0.133229                0.363560          0.533926            0.202160       0.232527                         0.465302             0.143362                 0.382843           0.329906           0.326730                0.041504               0.290655            0.315384                 0.356309              0.526339               0.202283                   0.559398                0.391605             0.298107              0.297571        0.532633              0.254694             0.211481             0.383616                  0.237605          0.399706         0.580078             0.276046                 0.300516           0.155322       0.178189        0.244781               0.145548            0.169159              0.244700       0.443423                                               The Cal Poly Pre-Law Chapter\n",
      "          0.252835                 0.165203       0.149747                0.326289                      0.153954                0.126972          0.260645            0.141434       0.422507                         0.248511             0.177698                 0.142210           0.478824           0.239256                0.078190               0.566240            0.257350                 0.143573              0.284609               0.205903                   0.279258                0.227313             0.210644              0.219107        0.332594              0.132026             0.198287             0.240643                  0.213431          0.262647         0.194863             0.190717                 0.304673           0.316385       0.191729        0.336887               0.258865            0.505520              0.087713       0.149206                                                The Cal Poly Triathlon Team\n",
      "          0.359258                 0.388208       0.428871                0.262827                      0.194137                0.200504          0.282812            0.282716       0.587538                         0.369168             0.110202                 0.149799           0.225521           0.197582                0.125609               0.453948            0.307017                 0.281271              0.392943               0.377584                   0.227610                0.333342             0.287658              0.267745        0.287570              0.369128             0.576438             0.273021                  0.388660          0.098974         0.280020             0.151883                 0.415092           0.302456       0.154683        0.267915               0.310615            0.484245              0.155083       0.471114                                                               The Nightcap\n",
      "          0.206232                 0.372279       0.129303                0.334478                      0.065494                0.291592          0.517507            0.250724       0.319706                         0.274898             0.179917                 0.274951           0.343422           0.232508                0.085392               0.236587            0.134562                 0.296523              0.455769               0.158674                   0.201596                0.207749             0.397673              0.242959        0.478958              0.221681             0.054092             0.300365                  0.116165          0.306544         0.198194             0.154744                 0.195034           0.313926       0.273770        0.234733               0.063254            0.212696              0.051093       0.403278                                        The Nu-Alpha chapter of Kappa Sigma\n",
      "          0.262273                 0.293186       0.120161                0.447236                      0.211193                0.189748          0.358136            0.098449       0.389796                         0.350420             0.137515                 0.086149           0.191415           0.401485                0.357935               0.341349            0.244128                 0.352834              0.402591               0.147994                   0.171417                0.402635             0.106185              0.217909        0.394157              0.176344             0.153645             0.282041                  0.113392          0.315973         0.239517             0.174295                 0.345411           0.173113       0.014633        0.378581               0.269108            0.596826              0.260637       0.103337                                                          Tractor Pull Club\n",
      "          0.348447                 0.272507       0.180436                0.417678                      0.228116                0.397608          0.435606            0.225793       0.281124                         0.498956             0.327459                 0.309027           0.268349           0.358958                0.111280               0.261732            0.334593                 0.330018              0.333949               0.214722                   0.494602                0.331603             0.416100              0.470246        0.416625              0.104174             0.291617             0.350099                  0.178641          0.395152         0.247133             0.144568                 0.384459           0.530582       0.224011        0.451520               0.106061            0.274826              0.227618       0.375350                      Xi Xi Chapter of Zeta Phi Beta Sorority, Incorporated\n",
      "          0.345481                 0.341496       0.203385                0.412865                      0.166973                0.409771          0.432874            0.192114       0.469222                         0.397974             0.254533                 0.187587           0.246114           0.165593                0.000000               0.208499            0.346351                 0.337947              0.385116               0.217858                   0.422676                0.214917             0.241490              0.258033        0.294119              0.189340             0.444811             0.269848                  0.224735          0.358185         0.208348             0.183557                 0.259071           0.300902       0.348892        0.362262               0.102651            0.202882              0.171513       0.278900                                    Zeta Beta Tau Fraternity Eta Mu Chapter\n",
      "          0.200630                 0.242067       0.198530                0.332124                      0.115862                0.300401          0.321772            0.098920       0.240337                         0.246966             0.217052                 0.218429           0.188247           0.231229                0.065941               0.193143            0.103828                 0.195129              0.360951               0.092603                   0.245856                0.206162             0.153342              0.122744        0.389955              0.132751             0.156639             0.215608                  0.043362          0.256944         0.260371             0.089128                 0.294589           0.081331       0.283135        0.284752               0.121874            0.260201              0.000000       0.495563                                   Zeta Phi Chapter of Theta Chi Fraternity\n",
      "          0.350229                 0.256135       0.232082                0.426445                      0.252329                0.346903          0.515978            0.266254       0.375871                         0.586303             0.245815                 0.158112           0.311459           0.229984                0.126881               0.180647            0.250704                 0.510644              0.467251               0.226376                   0.268002                0.351557             0.427374              0.416996        0.327251              0.220235             0.258397             0.290052                  0.178386          0.356812         0.221340             0.133127                 0.278371           0.313294       0.358127        0.289807               0.153812            0.203596              0.240290       0.376472                         Gamma Zeta Alpha Fraternity Inc. - Omicron Chapter\n"
     ]
    }
   ],
   "source": [
    "# Filter the original DataFrame for rows without any value >= threshold\n",
    "rows_without_condition_df = df[rows_without_condition]\n",
    "\n",
    "# Print the filtered DataFrame\n",
    "print(\"\\nRows without any value >= threshold:\")\n",
    "print(rows_without_condition_df.to_string(index=False))\n"
   ]
  }
 ],
 "metadata": {
  "kernelspec": {
   "display_name": "myenv",
   "language": "python",
   "name": "python3"
  },
  "language_info": {
   "codemirror_mode": {
    "name": "ipython",
    "version": 3
   },
   "file_extension": ".py",
   "mimetype": "text/x-python",
   "name": "python",
   "nbconvert_exporter": "python",
   "pygments_lexer": "ipython3",
   "version": "3.12.6"
  }
 },
 "nbformat": 4,
 "nbformat_minor": 2
}
